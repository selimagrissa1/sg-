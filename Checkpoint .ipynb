{
 "cells": [
  {
   "cell_type": "markdown",
   "id": "b46c61d5",
   "metadata": {},
   "source": [
    "Q1"
   ]
  },
  {
   "cell_type": "code",
   "execution_count": null,
   "id": "50eef744",
   "metadata": {},
   "outputs": [],
   "source": [
    "n= input (\"donner votre prénom\")\n",
    "s= input (\"donner votre nom\")\n",
    "print (s+\" \"+n) "
   ]
  },
  {
   "cell_type": "markdown",
   "id": "53e96b3b",
   "metadata": {},
   "source": [
    "Q2"
   ]
  },
  {
   "cell_type": "code",
   "execution_count": null,
   "id": "c220d879",
   "metadata": {},
   "outputs": [],
   "source": [
    "n=int (input (\"donner un nbre\"))\n",
    "b= n*11\n",
    "c= n*111\n",
    "s= n+b+c\n",
    "print (s)"
   ]
  },
  {
   "cell_type": "markdown",
   "id": "1b5a2856",
   "metadata": {},
   "source": [
    "Q3"
   ]
  },
  {
   "cell_type": "code",
   "execution_count": null,
   "id": "474b2ac2",
   "metadata": {},
   "outputs": [],
   "source": [
    "n= int (input(\"donner un nombre\"))\n",
    "if n%2==0 :\n",
    "    print (\"n= pair\")\n",
    "else :\n",
    "    print (\"n= impair\")"
   ]
  },
  {
   "cell_type": "markdown",
   "id": "db39e9ea",
   "metadata": {},
   "source": [
    "Q4"
   ]
  },
  {
   "cell_type": "code",
   "execution_count": null,
   "id": "b8758868",
   "metadata": {},
   "outputs": [],
   "source": [
    "n=[]\n",
    "for i in range (2000,3201):\n",
    "    if (i%7==0) and (i%5 !=0):\n",
    "        n.append(str(i)) \n",
    "print (','.join(n))"
   ]
  },
  {
   "cell_type": "markdown",
   "id": "eed9c64d",
   "metadata": {},
   "source": [
    "Q5"
   ]
  },
  {
   "cell_type": "code",
   "execution_count": null,
   "id": "69049c1a",
   "metadata": {},
   "outputs": [],
   "source": [
    "import math\n",
    "n=int(input(\"donner un nbre\"))  \n",
    "print (\"The factorial of\", n ,\"is :\",math.factorial(n))"
   ]
  },
  {
   "cell_type": "markdown",
   "id": "a6015fa1",
   "metadata": {},
   "source": [
    "Q6"
   ]
  },
  {
   "cell_type": "code",
   "execution_count": null,
   "id": "54e0cc1c",
   "metadata": {},
   "outputs": [],
   "source": [
    "ch=(input (\"donner un mot\"))\n",
    "n=''\n",
    "for i in range (len(ch)) : \n",
    "    if i%2==0:\n",
    "        n=n+ch[i]\n",
    "print(n)"
   ]
  },
  {
   "cell_type": "markdown",
   "id": "6d6c17ea",
   "metadata": {},
   "source": [
    "Q7"
   ]
  },
  {
   "cell_type": "code",
   "execution_count": null,
   "id": "de379ef0",
   "metadata": {},
   "outputs": [],
   "source": [
    "n=int (input(\"donner le price\"))\n",
    "if n>=500 :\n",
    "    print (\"50% discount\")\n",
    "elif  500>n>=200 :\n",
    "    print (\"30% discount\")\n",
    "elif  n<200:  \n",
    "    print (\"10% discount\")"
   ]
  }
 ],
 "metadata": {
  "kernelspec": {
   "display_name": "Python 3",
   "language": "python",
   "name": "python3"
  },
  "language_info": {
   "codemirror_mode": {
    "name": "ipython",
    "version": 3
   },
   "file_extension": ".py",
   "mimetype": "text/x-python",
   "name": "python",
   "nbconvert_exporter": "python",
   "pygments_lexer": "ipython3",
   "version": "3.8.8"
  }
 },
 "nbformat": 4,
 "nbformat_minor": 5
}
